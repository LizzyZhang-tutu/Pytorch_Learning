{
  "nbformat": 4,
  "nbformat_minor": 0,
  "metadata": {
    "colab": {
      "name": "PyTorch Linear Regression.ipynb",
      "provenance": [],
      "authorship_tag": "ABX9TyPinHyn97cT05OM+UbBSSwi",
      "include_colab_link": true
    },
    "kernelspec": {
      "name": "python3",
      "display_name": "Python 3"
    }
  },
  "cells": [
    {
      "cell_type": "markdown",
      "metadata": {
        "id": "view-in-github",
        "colab_type": "text"
      },
      "source": [
        "<a href=\"https://colab.research.google.com/github/LizzyZhang-tutu/Pytorch_Learning/blob/master/PyTorch_Linear_Regression.ipynb\" target=\"_parent\"><img src=\"https://colab.research.google.com/assets/colab-badge.svg\" alt=\"Open In Colab\"/></a>"
      ]
    },
    {
      "cell_type": "code",
      "metadata": {
        "id": "HbNJ2PYW0UhZ",
        "colab_type": "code",
        "colab": {}
      },
      "source": [
        "import torch\n",
        "import torch.nn as nn\n",
        "import numpy as np\n",
        "import matplotlib.pyplot as plt"
      ],
      "execution_count": null,
      "outputs": []
    },
    {
      "cell_type": "code",
      "metadata": {
        "id": "i2KnLC6r0i4D",
        "colab_type": "code",
        "colab": {
          "base_uri": "https://localhost:8080/",
          "height": 282
        },
        "outputId": "83217bd1-0ee5-4200-ce4d-7892335d7fd3"
      },
      "source": [
        "# we would like to generate 20 data points\n",
        "N = 20\n",
        "\n",
        "# random data on the x-axis in (-5, 5)\n",
        "X = np.random.random(N) * 10 - 5\n",
        "\n",
        "# a line plus some noise\n",
        "Y = 0.5 * X - 1 + np.random.randn(N)\n",
        "\n",
        "# Plot data\n",
        "plt.scatter(X, Y)"
      ],
      "execution_count": null,
      "outputs": [
        {
          "output_type": "execute_result",
          "data": {
            "text/plain": [
              "<matplotlib.collections.PathCollection at 0x7fd7af27c550>"
            ]
          },
          "metadata": {
            "tags": []
          },
          "execution_count": 2
        },
        {
          "output_type": "display_data",
          "data": {
            "image/png": "[encoded data removed]",
            "text/plain": [
              "<Figure size 432x288 with 1 Axes>"
            ]
          },
          "metadata": {
            "tags": [],
            "needs_background": "light"
          }
        }
      ]
    },
    {
      "cell_type": "code",
      "metadata": {
        "id": "NNtmLsH_1SUx",
        "colab_type": "code",
        "colab": {}
      },
      "source": [
        "# Create Linear Regression Model\n",
        "model = nn.Linear(1, 1)"
      ],
      "execution_count": null,
      "outputs": []
    },
    {
      "cell_type": "code",
      "metadata": {
        "id": "R5tqcsrw1YN4",
        "colab_type": "code",
        "colab": {}
      },
      "source": [
        "# Loss and optimizer\n",
        "criterion = nn.MSELoss()\n",
        "optimizer = torch.optim.SGD(model.parameters(), lr = 0.1)"
      ],
      "execution_count": null,
      "outputs": []
    },
    {
      "cell_type": "code",
      "metadata": {
        "id": "Z77gZgf41hFn",
        "colab_type": "code",
        "colab": {}
      },
      "source": [
        "X = X.reshape(N, 1)\n",
        "Y = Y.reshape(N, 1)\n",
        "\n",
        "inputs = torch.from_numpy(X.astype(np.float32))\n",
        "targets = torch.from_numpy(Y.astype(np.float32))"
      ],
      "execution_count": null,
      "outputs": []
    },
    {
      "cell_type": "code",
      "metadata": {
        "id": "INf5EOLv1-XG",
        "colab_type": "code",
        "colab": {
          "base_uri": "https://localhost:8080/",
          "height": 34
        },
        "outputId": "ec96b34d-a31d-4f11-ce32-53df5693f433"
      },
      "source": [
        "type(inputs)"
      ],
      "execution_count": null,
      "outputs": [
        {
          "output_type": "execute_result",
          "data": {
            "text/plain": [
              "torch.Tensor"
            ]
          },
          "metadata": {
            "tags": []
          },
          "execution_count": 6
        }
      ]
    },
    {
      "cell_type": "code",
      "metadata": {
        "id": "F0Tse0n21_RB",
        "colab_type": "code",
        "colab": {
          "base_uri": "https://localhost:8080/",
          "height": 527
        },
        "outputId": "6c5dddb9-beef-4224-af7b-8bb46a9ad423"
      },
      "source": [
        "# Train the model\n",
        "n_epochs = 30\n",
        "losses = []\n",
        "for it in range(n_epochs):\n",
        "  # zero the parameter gradients\n",
        "  optimizer.zero_grad()\n",
        "\n",
        "  # Forward pass\n",
        "  outputs = model(inputs)\n",
        "  loss = criterion(outputs, targets)\n",
        "\n",
        "  # Keep the loss so we can plot it later\n",
        "  losses.append(loss.item())\n",
        "\n",
        "  # Backward and optimize\n",
        "  loss.backward()\n",
        "  optimizer.step()\n",
        "\n",
        "  print(f'Epoch {it+1}/{n_epochs}, Loss: {loss.item():.4f}')\n",
        "\n",
        "  "
      ],
      "execution_count": null,
      "outputs": [
        {
          "output_type": "stream",
          "text": [
            "Epoch 1/30, Loss: 4.2656\n",
            "Epoch 2/30, Loss: 2.8664\n",
            "Epoch 3/30, Loss: 2.1075\n",
            "Epoch 4/30, Loss: 1.6273\n",
            "Epoch 5/30, Loss: 1.3191\n",
            "Epoch 6/30, Loss: 1.1210\n",
            "Epoch 7/30, Loss: 0.9937\n",
            "Epoch 8/30, Loss: 0.9119\n",
            "Epoch 9/30, Loss: 0.8593\n",
            "Epoch 10/30, Loss: 0.8255\n",
            "Epoch 11/30, Loss: 0.8037\n",
            "Epoch 12/30, Loss: 0.7898\n",
            "Epoch 13/30, Loss: 0.7808\n",
            "Epoch 14/30, Loss: 0.7750\n",
            "Epoch 15/30, Loss: 0.7713\n",
            "Epoch 16/30, Loss: 0.7689\n",
            "Epoch 17/30, Loss: 0.7674\n",
            "Epoch 18/30, Loss: 0.7664\n",
            "Epoch 19/30, Loss: 0.7658\n",
            "Epoch 20/30, Loss: 0.7654\n",
            "Epoch 21/30, Loss: 0.7651\n",
            "Epoch 22/30, Loss: 0.7649\n",
            "Epoch 23/30, Loss: 0.7648\n",
            "Epoch 24/30, Loss: 0.7648\n",
            "Epoch 25/30, Loss: 0.7647\n",
            "Epoch 26/30, Loss: 0.7647\n",
            "Epoch 27/30, Loss: 0.7647\n",
            "Epoch 28/30, Loss: 0.7647\n",
            "Epoch 29/30, Loss: 0.7647\n",
            "Epoch 30/30, Loss: 0.7647\n"
          ],
          "name": "stdout"
        }
      ]
    },
    {
      "cell_type": "code",
      "metadata": {
        "id": "PtKGLxcu2DcI",
        "colab_type": "code",
        "colab": {
          "base_uri": "https://localhost:8080/",
          "height": 282
        },
        "outputId": "98a50ed3-227c-4d15-c287-1cecd000d40a"
      },
      "source": [
        "# Plot the loss per iteration\n",
        "plt.plot(losses)"
      ],
      "execution_count": null,
      "outputs": [
        {
          "output_type": "execute_result",
          "data": {
            "text/plain": [
              "[<matplotlib.lines.Line2D at 0x7fd7a4c12860>]"
            ]
          },
          "metadata": {
            "tags": []
          },
          "execution_count": 9
        },
        {
          "output_type": "display_data",
          "data": {
            "image/png": "[encoded data removed]",
            "text/plain": [
              "<Figure size 432x288 with 1 Axes>"
            ]
          },
          "metadata": {
            "tags": [],
            "needs_background": "light"
          }
        }
      ]
    },
    {
      "cell_type": "code",
      "metadata": {
        "id": "kbkm5jZC3XRL",
        "colab_type": "code",
        "colab": {
          "base_uri": "https://localhost:8080/",
          "height": 265
        },
        "outputId": "e5a4473d-67d7-4b71-8109-bc54b094fdf6"
      },
      "source": [
        "# Plot the graph\n",
        "predicted = model(inputs).detach().numpy()\n",
        "plt.scatter(X, Y, label='Original data')\n",
        "plt.plot(X, predicted, label='Fitted line')\n",
        "plt.legend()\n",
        "plt.show()"
      ],
      "execution_count": null,
      "outputs": [
        {
          "output_type": "display_data",
          "data": {
            "image/png": "[encoded data removed]",
            "text/plain": [
              "<Figure size 432x288 with 1 Axes>"
            ]
          },
          "metadata": {
            "tags": [],
            "needs_background": "light"
          }
        }
      ]
    },
    {
      "cell_type": "code",
      "metadata": {
        "id": "xr1zarDH3v2_",
        "colab_type": "code",
        "colab": {
          "base_uri": "https://localhost:8080/",
          "height": 357
        },
        "outputId": "60a9b234-6ab6-4e8e-fb21-a34c30d2ca9a"
      },
      "source": [
        "# Another way\n",
        "with torch.no_grad():\n",
        "  out = model(inputs).numpy()\n",
        "out"
      ],
      "execution_count": null,
      "outputs": [
        {
          "output_type": "execute_result",
          "data": {
            "text/plain": [
              "array([[ 1.0073639 ],\n",
              "       [-1.6091948 ],\n",
              "       [-2.1696496 ],\n",
              "       [-2.6121264 ],\n",
              "       [-2.5363057 ],\n",
              "       [-2.3891048 ],\n",
              "       [ 0.41340876],\n",
              "       [-2.7505903 ],\n",
              "       [ 0.800174  ],\n",
              "       [-0.8079121 ],\n",
              "       [ 0.03538573],\n",
              "       [-1.4355586 ],\n",
              "       [-3.5048108 ],\n",
              "       [ 1.6868287 ],\n",
              "       [-0.8566202 ],\n",
              "       [ 0.33387995],\n",
              "       [-0.90320635],\n",
              "       [-0.3606454 ],\n",
              "       [-1.9720399 ],\n",
              "       [-0.0868243 ]], dtype=float32)"
            ]
          },
          "metadata": {
            "tags": []
          },
          "execution_count": 11
        }
      ]
    },
    {
      "cell_type": "code",
      "metadata": {
        "id": "KzgJ2B7U4FFE",
        "colab_type": "code",
        "colab": {
          "base_uri": "https://localhost:8080/",
          "height": 34
        },
        "outputId": "0e5efe17-cc5f-465f-a108-79e9b9ee1fad"
      },
      "source": [
        "w = model.weight.data.numpy()\n",
        "b = model.bias.data.numpy()\n",
        "print(w, b)"
      ],
      "execution_count": null,
      "outputs": [
        {
          "output_type": "stream",
          "text": [
            "[[0.57015616]] [-1.1063501]\n"
          ],
          "name": "stdout"
        }
      ]
    },
    {
      "cell_type": "code",
      "metadata": {
        "id": "QFEHRfqV4dxo",
        "colab_type": "code",
        "colab": {}
      },
      "source": [
        ""
      ],
      "execution_count": null,
      "outputs": []
    }
  ]
}